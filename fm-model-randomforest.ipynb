{
 "cells": [
  {
   "cell_type": "code",
   "execution_count": null,
   "metadata": {},
   "outputs": [],
   "source": []
  },
  {
   "cell_type": "code",
   "execution_count": 1,
   "metadata": {},
   "outputs": [
    {
     "name": "stdout",
     "output_type": "stream",
     "text": [
      "Regression Model MAE: 44.49998958333333\n",
      "Classification Model Accuracy: 0.9375\n"
     ]
    }
   ],
   "source": [
    "import pandas as pd\n",
    "import numpy as np\n",
    "from sklearn.model_selection import train_test_split\n",
    "from sklearn.preprocessing import StandardScaler, LabelEncoder\n",
    "from sklearn.ensemble import RandomForestRegressor, RandomForestClassifier\n",
    "from sklearn.metrics import mean_absolute_error, accuracy_score\n",
    "import joblib\n",
    "\n",
    "# Load dataset\n",
    "df = pd.read_csv(\"Fish.csv\")\n",
    "\n",
    "# Encode categorical target for classification\n",
    "label_encoder = LabelEncoder()\n",
    "df[\"Species\"] = label_encoder.fit_transform(df[\"Species\"])\n",
    "\n",
    "# Define features and targets\n",
    "X = df.drop(columns=[\"Weight\"])  # Features (excluding Weight for regression)\n",
    "y_reg = df[\"Weight\"]  # Target for Regression\n",
    "y_clf = df[\"Species\"]  # Target for Classification\n",
    "\n",
    "# Split data\n",
    "X_train, X_test, y_train_reg, y_test_reg = train_test_split(X, y_reg, test_size=0.2, random_state=42)\n",
    "X_train_clf, X_test_clf, y_train_clf, y_test_clf = train_test_split(X, y_clf, test_size=0.2, random_state=42)\n",
    "\n",
    "# Scale features\n",
    "scaler = StandardScaler()\n",
    "X_train_scaled = scaler.fit_transform(X_train)\n",
    "X_test_scaled = scaler.transform(X_test)\n",
    "X_train_clf_scaled = scaler.fit_transform(X_train_clf)\n",
    "X_test_clf_scaled = scaler.transform(X_test_clf)\n",
    "\n",
    "# Train Regression Model (Random Forest Regressor)\n",
    "reg_model = RandomForestRegressor(n_estimators=100, random_state=42)\n",
    "reg_model.fit(X_train_scaled, y_train_reg)\n",
    "y_pred_reg = reg_model.predict(X_test_scaled)\n",
    "reg_mae = mean_absolute_error(y_test_reg, y_pred_reg)\n",
    "\n",
    "# Train Classification Model (Random Forest Classifier)\n",
    "clf_model = RandomForestClassifier(n_estimators=100, random_state=42)\n",
    "clf_model.fit(X_train_clf_scaled, y_train_clf)\n",
    "y_pred_clf = clf_model.predict(X_test_clf_scaled)\n",
    "clf_acc = accuracy_score(y_test_clf, y_pred_clf)\n",
    "\n",
    "# Save models & encoders\n",
    "joblib.dump(reg_model, \"fish_regressor.pkl\")\n",
    "joblib.dump(clf_model, \"fish_classifier.pkl\")\n",
    "joblib.dump(scaler, \"fish_scaler.pkl\")\n",
    "joblib.dump(label_encoder, \"fish_label_encoder.pkl\")\n",
    "\n",
    "print(f\"Regression Model MAE: {reg_mae}\")\n",
    "print(f\"Classification Model Accuracy: {clf_acc}\")"
   ]
  },
  {
   "cell_type": "code",
   "execution_count": null,
   "metadata": {},
   "outputs": [],
   "source": []
  }
 ],
 "metadata": {
  "kernelspec": {
   "display_name": "base",
   "language": "python",
   "name": "python3"
  },
  "language_info": {
   "codemirror_mode": {
    "name": "ipython",
    "version": 3
   },
   "file_extension": ".py",
   "mimetype": "text/x-python",
   "name": "python",
   "nbconvert_exporter": "python",
   "pygments_lexer": "ipython3",
   "version": "3.12.3"
  }
 },
 "nbformat": 4,
 "nbformat_minor": 2
}
